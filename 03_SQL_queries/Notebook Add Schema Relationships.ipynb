{
 "metadata": {
  "kernelspec": {
   "display_name": "Streamlit Notebook",
   "name": "streamlit"
  }
 },
 "nbformat_minor": 5,
 "nbformat": 4,
 "cells": [
  {
   "cell_type": "code",
   "id": "2c150790-1d5e-4bab-99aa-364a35811a1c",
   "metadata": {
    "language": "sql",
    "name": "Adding_ID_Column_BonusPoints",
    "collapsed": false,
    "resultHeight": 0
   },
   "outputs": [],
   "source": "--Adding UUID to BonusPoints table\nALTER TABLE \"BONUSPOINTS\"\nADD COLUMN \"_id\" VARCHAR\n",
   "execution_count": null
  },
  {
   "cell_type": "code",
   "id": "28ba4107-74ac-467c-a6f2-5b72cfadb0a5",
   "metadata": {
    "language": "sql",
    "name": "Ensuring_UUID",
    "collapsed": false,
    "resultHeight": 0
   },
   "outputs": [],
   "source": "UPDATE \"BONUSPOINTS\"\nSET \"_id\" = UUID_STRING();",
   "execution_count": null
  },
  {
   "cell_type": "code",
   "id": "a923d6ff-7a66-4dbc-9a80-09bf2ed388ad",
   "metadata": {
    "language": "sql",
    "name": "Adding_PK_Receipts",
    "collapsed": false,
    "resultHeight": 112
   },
   "outputs": [],
   "source": "ALTER TABLE \"RECEIPTS_CLEAN\"\nADD CONSTRAINT pk_receipts_id PRIMARY KEY (_id);",
   "execution_count": null
  },
  {
   "cell_type": "code",
   "id": "c7286c33-0f27-4657-b90b-3eaf7f9419f1",
   "metadata": {
    "language": "sql",
    "name": "Adding_FK_BonusPoints",
    "collapsed": false,
    "resultHeight": 112
   },
   "outputs": [],
   "source": "ALTER TABLE \"BONUSPOINTS\"\nADD CONSTRAINT fk_receipt_id\nFOREIGN KEY (_ID) REFERENCES RECEIPTS_CLEAN(_id);",
   "execution_count": null
  },
  {
   "cell_type": "code",
   "id": "2080d89b-3cf5-4e8a-9e2f-fd060b5418aa",
   "metadata": {
    "language": "sql",
    "name": "Adding_PK_Users",
    "collapsed": false,
    "resultHeight": 112
   },
   "outputs": [],
   "source": "ALTER TABLE \"USERS_CLEAN\"\nADD CONSTRAINT pk_users_id PRIMARY KEY (_id)",
   "execution_count": null
  },
  {
   "cell_type": "code",
   "id": "3de1d305-6c62-4328-937c-2160b7715336",
   "metadata": {
    "language": "sql",
    "name": "Adding_FK_Receipts",
    "collapsed": false,
    "resultHeight": 112
   },
   "outputs": [],
   "source": "ALTER TABLE \"RECEIPTS_CLEAN\"\nADD CONSTRAINT fk_users_id\nFOREIGN KEY (USERID) REFERENCES USERS_CLEAN(_ID)",
   "execution_count": null
  },
  {
   "cell_type": "code",
   "id": "0a63a3d9-0121-4c70-8691-87ad99c3a176",
   "metadata": {
    "language": "sql",
    "name": "Adding_PrimaryKey_Brands",
    "collapsed": false,
    "resultHeight": 112
   },
   "outputs": [],
   "source": "ALTER TABLE \"BRANDS_CLEAN\"\nADD CONSTRAINT pk_brands_id PRIMARY KEY (_id)\n",
   "execution_count": null
  },
  {
   "cell_type": "code",
   "id": "1c3a9f51-a4b3-4b0f-8835-038a16fa283b",
   "metadata": {
    "language": "sql",
    "name": "Update_barcode_int_to_string",
    "collapsed": false,
    "resultHeight": 112
   },
   "outputs": [],
   "source": "CREATE\nOR REPLACE TABLE brands_clean_new (\n  barcode VARCHAR,\n  brandcode VARCHAR,\n  categorycode VARCHAR,\n  cpg VARCHAR,\n  name VARCHAR,\n  topbrand DECIMAL(38, 0),\n  _id VARCHAR\n);\nINSERT INTO\n  brands_clean_new (\n    barcode,\n    brandcode,\n    categorycode,\n    cpg,\n    name,\n    topbrand,\n    _id\n  )\nSELECT\n  TO_CHAR (barcode) AS barcode,\n  brandcode,\n  categorycode,\n  cpg,\n  name,\n  topbrand,\n  _id\nFROM\n  brands_clean;\nDROP TABLE brands_clean;\nALTER TABLE\n  brands_clean_new RENAME TO brands_clean;",
   "execution_count": null
  },
  {
   "cell_type": "code",
   "id": "7ab39cf6-0455-44af-adf0-c4e5dcc22be1",
   "metadata": {
    "language": "sql",
    "name": "Adding_Pk_Brands",
    "collapsed": false,
    "resultHeight": 112
   },
   "outputs": [],
   "source": "ALTER TABLE\"BRANDS_CLEAN\"\nADD PRIMARY KEY (BARCODE);",
   "execution_count": null
  },
  {
   "cell_type": "code",
   "id": "77db2113-c538-4d8a-af72-f5e83d6fa1a9",
   "metadata": {
    "language": "sql",
    "name": "Adding_ForeignKey_RewardReceiptItem",
    "collapsed": false,
    "resultHeight": 112
   },
   "outputs": [],
   "source": "ALTER TABLE \"RECEIPT_ITEMS\"\n-- DROP CONSTRAINT fk_brands_id\nADD CONSTRAINT fk_brands_id \nFOREIGN KEY (BARCODE) REFERENCES BRANDS_CLEAN(BARCODE);\n",
   "execution_count": null
  },
  {
   "cell_type": "code",
   "id": "b827a367-4ce0-49fc-924b-306074b18b78",
   "metadata": {
    "language": "sql",
    "name": "Checking_rows_of_brands_table",
    "collapsed": false,
    "resultHeight": 112
   },
   "outputs": [],
   "source": "select count(*)\nfrom BRANDS_CLEAN",
   "execution_count": null
  },
  {
   "cell_type": "code",
   "id": "6ba7d249-e528-42b2-8ab3-5da07827958d",
   "metadata": {
    "language": "sql",
    "name": "Add_ID_Category_clean",
    "collapsed": false,
    "resultHeight": 112
   },
   "outputs": [],
   "source": "ALTER TABLE CATEGORY_CLEAN\nADD COLUMN _ID TEXT ",
   "execution_count": null
  },
  {
   "cell_type": "code",
   "id": "de65a2a0-6300-4fac-bb59-bc6cc49d9f85",
   "metadata": {
    "language": "sql",
    "name": "Generate_UUID_CATEGORY_CLEAN",
    "collapsed": false,
    "resultHeight": 112
   },
   "outputs": [],
   "source": "UPDATE CATEGORY_CLEAN\nSET _id = UUID_STRING();",
   "execution_count": null
  },
  {
   "cell_type": "code",
   "id": "7d9b8420-cbf8-4ee4-88e7-582aba317b20",
   "metadata": {
    "language": "sql",
    "name": "ADDING_CATEGORY_ID_BRANDS_CLEAN",
    "collapsed": false,
    "resultHeight": 112
   },
   "outputs": [],
   "source": "ALTER TABLE BRANDS_CLEAN\nADD COLUMN CATEGORY_ID TEXT",
   "execution_count": null
  },
  {
   "cell_type": "code",
   "id": "7349c33c-25e9-48b0-aa21-ad6efcca9198",
   "metadata": {
    "language": "sql",
    "name": "Updating_brands_to_category_UUID",
    "collapsed": false,
    "resultHeight": 112
   },
   "outputs": [],
   "source": "UPDATE BRANDS_CLEAN AS b\nSET CATEGORY_ID = c._ID\nFROM CATEGORY_CLEAN AS c\nWHERE b.CATEGORY_ID IS NULL",
   "execution_count": null
  },
  {
   "cell_type": "code",
   "id": "7add1a71-af5b-4f53-8af5-ea9613968b20",
   "metadata": {
    "language": "sql",
    "name": "Adding_PK_Categories",
    "collapsed": false,
    "resultHeight": 112
   },
   "outputs": [],
   "source": "ALTER TABLE \"CATEGORY_CLEAN\"\nADD CONSTRAINT pk_categories_id PRIMARY KEY (_ID);\n",
   "execution_count": null
  },
  {
   "cell_type": "code",
   "id": "b5ca1338-4b6e-412c-b5ce-b77cba563e44",
   "metadata": {
    "language": "sql",
    "name": "Adding_FK_CategoryID",
    "collapsed": false,
    "resultHeight": 112
   },
   "outputs": [],
   "source": "ALTER TABLE \"BRANDS_CLEAN\"\nADD CONSTRAINT fk_categories_id\nFOREIGN KEY (CATEGORY_ID) REFERENCES \"CATEGORY_CLEAN\"(_ID);\n",
   "execution_count": null
  }
 ]
}