{
  "nbformat": 4,
  "nbformat_minor": 0,
  "metadata": {
    "colab": {
      "provenance": []
    },
    "kernelspec": {
      "name": "python3",
      "display_name": "Python 3"
    },
    "language_info": {
      "name": "python"
    }
  },
  "cells": [
    {
      "cell_type": "code",
      "execution_count": null,
      "metadata": {
        "id": "duyL4nuyg2Q4"
      },
      "outputs": [],
      "source": [
        "import pandas as pd\n",
        "import json\n",
        "import uuid\n",
        "from datetime import datetime\n",
        "import matplotlib.pyplot as plt\n",
        "import seaborn as sns"
      ]
    },
    {
      "cell_type": "code",
      "source": [
        "# read files through google drive\n",
        "users = \"/content/drive/MyDrive/fetch_data/users.json\"\n",
        "brands = \"/content/drive/MyDrive/fetch_data/brands.json\"\n",
        "receipts = \"/content/drive/MyDrive/fetch_data/receipts.json\""
      ],
      "metadata": {
        "id": "GscTvP6FhBF_"
      },
      "execution_count": null,
      "outputs": []
    },
    {
      "cell_type": "code",
      "source": [
        "# read json files into dataframes\n",
        "df_users = pd.read_json(users, lines=True)\n",
        "df_brands = pd.read_json(brands, lines=True)\n",
        "df_receipts = pd.read_json(receipts, lines=True)"
      ],
      "metadata": {
        "id": "MniCDNzDhLC2"
      },
      "execution_count": null,
      "outputs": []
    },
    {
      "cell_type": "markdown",
      "source": [
        "---\n",
        "# df_users data quality diagnosis\n",
        "\n"
      ],
      "metadata": {
        "id": "7XDYv_htjv1i"
      }
    },
    {
      "cell_type": "code",
      "source": [
        "print(df_users['state'].value_counts())"
      ],
      "metadata": {
        "colab": {
          "base_uri": "https://localhost:8080/"
        },
        "id": "vTNkcsbSX82U",
        "outputId": "9cddc892-722d-4fd9-d102-ffe44e01fea0"
      },
      "execution_count": null,
      "outputs": [
        {
          "output_type": "stream",
          "name": "stdout",
          "text": [
            "state\n",
            "WI    396\n",
            "NH     20\n",
            "AL     12\n",
            "OH      5\n",
            "IL      3\n",
            "KY      1\n",
            "CO      1\n",
            "SC      1\n",
            "Name: count, dtype: int64\n"
          ]
        }
      ]
    },
    {
      "cell_type": "code",
      "source": [
        "print(df_users.info())\n",
        "print(\"------------------------------------------\")\n",
        "print(df_users.describe(include=\"all\"))  # summary statistics for numerical and categorical data\n",
        "print(\"------------------------------------------\")\n",
        "print(df_users.head())   # first few rows\n",
        "\n",
        "# non-null count is not consistent across all the columns\n",
        "#  -> this indicates that some data are missing and we might need some data imputations\n",
        "\n",
        "# in the statistical summary we see that there are 212 unique ids out of 495\n",
        "#  -> This indicates possible duplication or an issue with unique identifiers, which could affect data integrity.\n",
        "\n",
        "# for consistency date columns like createDate and lastLogin should be standarized to maybe a MM-DD-YYYY format\n",
        "# _id column should be standarized to only the id for easier analysis\n",
        "\n",
        "# WI state seems to dominated for most of the column\n",
        "# this could indicates high cardinaity but low variabilities\n",
        "# an example of drawback on high cardinality is we might potentially need to increase the storage\n",
        "# an example of drawback on low variability is we might lose the potential for predicting data"
      ],
      "metadata": {
        "colab": {
          "base_uri": "https://localhost:8080/"
        },
        "id": "COTIyZGvhPpC",
        "outputId": "234a2a92-5f6e-4d1b-8e83-12bf10905e38"
      },
      "execution_count": null,
      "outputs": [
        {
          "output_type": "stream",
          "name": "stdout",
          "text": [
            "<class 'pandas.core.frame.DataFrame'>\n",
            "RangeIndex: 495 entries, 0 to 494\n",
            "Data columns (total 7 columns):\n",
            " #   Column        Non-Null Count  Dtype \n",
            "---  ------        --------------  ----- \n",
            " 0   _id           495 non-null    object\n",
            " 1   active        495 non-null    bool  \n",
            " 2   createdDate   495 non-null    object\n",
            " 3   lastLogin     433 non-null    object\n",
            " 4   role          495 non-null    object\n",
            " 5   signUpSource  447 non-null    object\n",
            " 6   state         439 non-null    object\n",
            "dtypes: bool(1), object(6)\n",
            "memory usage: 23.8+ KB\n",
            "None\n",
            "------------------------------------------\n",
            "                                         _id active               createdDate  \\\n",
            "count                                    495    495                       495   \n",
            "unique                                   212      2                       212   \n",
            "top     {'$oid': '54943462e4b07e684157a532'}   True  {'$date': 1418998882381}   \n",
            "freq                                      20    494                        20   \n",
            "\n",
            "                       lastLogin      role signUpSource state  \n",
            "count                        433       495          447   439  \n",
            "unique                       172         2            2     8  \n",
            "top     {'$date': 1614963143204}  consumer        Email    WI  \n",
            "freq                          20       413          443   396  \n",
            "------------------------------------------\n",
            "                                    _id  active               createdDate  \\\n",
            "0  {'$oid': '5ff1e194b6a9d73a3a9f1052'}    True  {'$date': 1609687444800}   \n",
            "1  {'$oid': '5ff1e194b6a9d73a3a9f1052'}    True  {'$date': 1609687444800}   \n",
            "2  {'$oid': '5ff1e194b6a9d73a3a9f1052'}    True  {'$date': 1609687444800}   \n",
            "3  {'$oid': '5ff1e1eacfcf6c399c274ae6'}    True  {'$date': 1609687530554}   \n",
            "4  {'$oid': '5ff1e194b6a9d73a3a9f1052'}    True  {'$date': 1609687444800}   \n",
            "\n",
            "                  lastLogin      role signUpSource state  \n",
            "0  {'$date': 1609687537858}  consumer        Email    WI  \n",
            "1  {'$date': 1609687537858}  consumer        Email    WI  \n",
            "2  {'$date': 1609687537858}  consumer        Email    WI  \n",
            "3  {'$date': 1609687530597}  consumer        Email    WI  \n",
            "4  {'$date': 1609687537858}  consumer        Email    WI  \n"
          ]
        }
      ]
    },
    {
      "cell_type": "code",
      "source": [
        "# missing values summary\n",
        "missing_summary = df_users.isnull().sum().sort_values(ascending=False)\n",
        "print(missing_summary)\n",
        "\n",
        "# percentage of missing values\n",
        "missing_percentage = (df_users.isnull().mean() * 100).sort_values(ascending=False)\n",
        "print(missing_percentage)\n",
        "\n",
        "# The most problematic column is lastLogin, with the highest count and percentage of missing values 12.53.\n",
        "# state and signUpSource also have notable amounts of missing data."
      ],
      "metadata": {
        "colab": {
          "base_uri": "https://localhost:8080/"
        },
        "id": "pdWAoU5TEoZb",
        "outputId": "41fc1e56-48f6-45de-fe0e-9587b04bade0"
      },
      "execution_count": null,
      "outputs": [
        {
          "output_type": "stream",
          "name": "stdout",
          "text": [
            "lastLogin       62\n",
            "state           56\n",
            "signUpSource    48\n",
            "_id              0\n",
            "active           0\n",
            "createdDate      0\n",
            "role             0\n",
            "dtype: int64\n",
            "lastLogin       12.525253\n",
            "state           11.313131\n",
            "signUpSource     9.696970\n",
            "_id              0.000000\n",
            "active           0.000000\n",
            "createdDate      0.000000\n",
            "role             0.000000\n",
            "dtype: float64\n"
          ]
        }
      ]
    },
    {
      "cell_type": "code",
      "source": [
        "import pandas as pd\n",
        "\n",
        "print(df_users.dtypes)\n",
        "\n",
        "# Check for numeric columns with string values\n",
        "for col in df_users.select_dtypes(include=['object']).columns:\n",
        "    # Check if the column contains dictionaries\n",
        "    if pd.api.types.is_object_dtype(df_users[col]) and any(isinstance(x, dict) for x in df_users[col] if pd.notna(x)):\n",
        "        print(f\"Column '{col}' contains dictionaries. Unique values cannot be directly computed.\")\n",
        "        # Instead of unique(), you might want to print a few sample dictionaries:\n",
        "        print(f\"Sample values in {col}: {df_users[col].dropna().iloc[:5].to_list()}\")\n",
        "    else:\n",
        "        print(f\"Unique values in {col}: {df_users[col].unique()[:5]}\")"
      ],
      "metadata": {
        "colab": {
          "base_uri": "https://localhost:8080/"
        },
        "id": "SW4eiJHzHZj3",
        "outputId": "62cb4a24-a856-48e9-e7ac-86ab240284ad"
      },
      "execution_count": null,
      "outputs": [
        {
          "output_type": "stream",
          "name": "stdout",
          "text": [
            "_id             object\n",
            "active            bool\n",
            "createdDate     object\n",
            "lastLogin       object\n",
            "role            object\n",
            "signUpSource    object\n",
            "state           object\n",
            "dtype: object\n",
            "Column '_id' contains dictionaries. Unique values cannot be directly computed.\n",
            "Sample values in _id: [{'$oid': '5ff1e194b6a9d73a3a9f1052'}, {'$oid': '5ff1e194b6a9d73a3a9f1052'}, {'$oid': '5ff1e194b6a9d73a3a9f1052'}, {'$oid': '5ff1e1eacfcf6c399c274ae6'}, {'$oid': '5ff1e194b6a9d73a3a9f1052'}]\n",
            "Column 'createdDate' contains dictionaries. Unique values cannot be directly computed.\n",
            "Sample values in createdDate: [{'$date': 1609687444800}, {'$date': 1609687444800}, {'$date': 1609687444800}, {'$date': 1609687530554}, {'$date': 1609687444800}]\n",
            "Column 'lastLogin' contains dictionaries. Unique values cannot be directly computed.\n",
            "Sample values in lastLogin: [{'$date': 1609687537858}, {'$date': 1609687537858}, {'$date': 1609687537858}, {'$date': 1609687530597}, {'$date': 1609687537858}]\n",
            "Unique values in role: ['consumer' 'fetch-staff']\n",
            "Unique values in signUpSource: ['Email' 'Google' nan]\n",
            "Unique values in state: ['WI' 'KY' 'AL' 'CO' 'IL']\n"
          ]
        }
      ]
    },
    {
      "cell_type": "markdown",
      "source": [
        "\n",
        "**Note**: I would normlaly check the outliers using IQR (interquartile range) method to ensure outliers, since most of the data in the users table are categoricals checking for outliers is unnessary."
      ],
      "metadata": {
        "id": "GMD5PTrFIm-C"
      }
    },
    {
      "cell_type": "markdown",
      "source": [
        "\n",
        "---\n",
        "# df_brands data quality diagnosis"
      ],
      "metadata": {
        "id": "LBa4YMjPIWDu"
      }
    },
    {
      "cell_type": "code",
      "source": [
        "print(df_brands.info())   # Data types and non-null counts\n",
        "print(\"------------------------------------------\")\n",
        "print(df_brands.describe(include=\"all\"))  # Summary statistics for numerical and categorical data\n",
        "print(\"------------------------------------------\")\n",
        "print(df_brands.head())   # First few rows\n",
        "\n",
        "\"\"\"\n",
        "1. High Missing Data : categoryCode and topBrand have over 50% missing values\n",
        " -> depending on the business needs data imputation or drop data might be a good choice\n",
        "2. Some rows are labeled as \"test brand\" in the name column\n",
        " -> this indicates that the placeholder data might not serve for our analysis\n",
        "3. _id and cpg can be parsed to standarize data.\n",
        "4. cpg consist of multiple dictionary (this also violates 1st normal form where column information should be aotmic)\n",
        "\"\"\""
      ],
      "metadata": {
        "colab": {
          "base_uri": "https://localhost:8080/",
          "height": 1000
        },
        "id": "_R4M3KZ2IUHp",
        "outputId": "533ff0aa-2099-4830-94fb-7f6b7530869f"
      },
      "execution_count": null,
      "outputs": [
        {
          "output_type": "stream",
          "name": "stdout",
          "text": [
            "<class 'pandas.core.frame.DataFrame'>\n",
            "RangeIndex: 1167 entries, 0 to 1166\n",
            "Data columns (total 8 columns):\n",
            " #   Column        Non-Null Count  Dtype  \n",
            "---  ------        --------------  -----  \n",
            " 0   _id           1167 non-null   object \n",
            " 1   barcode       1167 non-null   int64  \n",
            " 2   category      1012 non-null   object \n",
            " 3   categoryCode  517 non-null    object \n",
            " 4   cpg           1167 non-null   object \n",
            " 5   name          1167 non-null   object \n",
            " 6   topBrand      555 non-null    float64\n",
            " 7   brandCode     933 non-null    object \n",
            "dtypes: float64(1), int64(1), object(6)\n",
            "memory usage: 73.1+ KB\n",
            "None\n",
            "------------------------------------------\n",
            "                                         _id       barcode category  \\\n",
            "count                                   1167  1.167000e+03     1012   \n",
            "unique                                  1167           NaN       23   \n",
            "top     {'$oid': '601ac115be37ce2ead437551'}           NaN   Baking   \n",
            "freq                                       1           NaN      369   \n",
            "mean                                     NaN  5.111115e+11      NaN   \n",
            "std                                      NaN  2.874497e+05      NaN   \n",
            "min                                      NaN  5.111110e+11      NaN   \n",
            "25%                                      NaN  5.111112e+11      NaN   \n",
            "50%                                      NaN  5.111114e+11      NaN   \n",
            "75%                                      NaN  5.111117e+11      NaN   \n",
            "max                                      NaN  5.111119e+11      NaN   \n",
            "\n",
            "       categoryCode                                                cpg  \\\n",
            "count           517                                               1167   \n",
            "unique           14                                                204   \n",
            "top          BAKING  {'$ref': 'Cogs', '$id': {'$oid': '559c2234e4b0...   \n",
            "freq            359                                                 98   \n",
            "mean            NaN                                                NaN   \n",
            "std             NaN                                                NaN   \n",
            "min             NaN                                                NaN   \n",
            "25%             NaN                                                NaN   \n",
            "50%             NaN                                                NaN   \n",
            "75%             NaN                                                NaN   \n",
            "max             NaN                                                NaN   \n",
            "\n",
            "           name    topBrand brandCode  \n",
            "count      1167  555.000000       933  \n",
            "unique     1156         NaN       897  \n",
            "top     Huggies         NaN            \n",
            "freq          2         NaN        35  \n",
            "mean        NaN    0.055856       NaN  \n",
            "std         NaN    0.229850       NaN  \n",
            "min         NaN    0.000000       NaN  \n",
            "25%         NaN    0.000000       NaN  \n",
            "50%         NaN    0.000000       NaN  \n",
            "75%         NaN    0.000000       NaN  \n",
            "max         NaN    1.000000       NaN  \n",
            "------------------------------------------\n",
            "                                    _id       barcode        category  \\\n",
            "0  {'$oid': '601ac115be37ce2ead437551'}  511111019862          Baking   \n",
            "1  {'$oid': '601c5460be37ce2ead43755f'}  511111519928       Beverages   \n",
            "2  {'$oid': '601ac142be37ce2ead43755d'}  511111819905          Baking   \n",
            "3  {'$oid': '601ac142be37ce2ead43755a'}  511111519874          Baking   \n",
            "4  {'$oid': '601ac142be37ce2ead43755e'}  511111319917  Candy & Sweets   \n",
            "\n",
            "       categoryCode                                                cpg  \\\n",
            "0            BAKING  {'$id': {'$oid': '601ac114be37ce2ead437550'}, ...   \n",
            "1         BEVERAGES  {'$id': {'$oid': '5332f5fbe4b03c9a25efd0ba'}, ...   \n",
            "2            BAKING  {'$id': {'$oid': '601ac142be37ce2ead437559'}, ...   \n",
            "3            BAKING  {'$id': {'$oid': '601ac142be37ce2ead437559'}, ...   \n",
            "4  CANDY_AND_SWEETS  {'$id': {'$oid': '5332fa12e4b03c9a25efd1e7'}, ...   \n",
            "\n",
            "                        name  topBrand                      brandCode  \n",
            "0  test brand @1612366101024       0.0                            NaN  \n",
            "1                  Starbucks       0.0                      STARBUCKS  \n",
            "2  test brand @1612366146176       0.0  TEST BRANDCODE @1612366146176  \n",
            "3  test brand @1612366146051       0.0  TEST BRANDCODE @1612366146051  \n",
            "4  test brand @1612366146827       0.0  TEST BRANDCODE @1612366146827  \n"
          ]
        },
        {
          "output_type": "execute_result",
          "data": {
            "text/plain": [
              "'\\n1. High Missing Data : categoryCode and topBrand have over 50% missing values\\n -> depending on the business needs data imputation or drop data might be a good choice\\n2. Some rows are labeled as \"test brand\" in the name column\\n -> this indicates that the placeholder data might not serve for our analysis\\n3. _id and cpg can be parsed to standarize data.\\n4. cpg consist of multiple dictionary (this also violates 1st normal form where column information should be aotmic )\\n'"
            ],
            "application/vnd.google.colaboratory.intrinsic+json": {
              "type": "string"
            }
          },
          "metadata": {},
          "execution_count": 49
        }
      ]
    },
    {
      "cell_type": "code",
      "source": [
        "print(df_brands.dtypes)"
      ],
      "metadata": {
        "colab": {
          "base_uri": "https://localhost:8080/"
        },
        "id": "u6eqhW0E3qkZ",
        "outputId": "afdbd945-ca83-4141-8025-2783a81f5b63"
      },
      "execution_count": null,
      "outputs": [
        {
          "output_type": "stream",
          "name": "stdout",
          "text": [
            "_id              object\n",
            "barcode           int64\n",
            "category         object\n",
            "categoryCode     object\n",
            "cpg              object\n",
            "name             object\n",
            "topBrand        float64\n",
            "brandCode        object\n",
            "dtype: object\n"
          ]
        }
      ]
    },
    {
      "cell_type": "code",
      "source": [
        "# missing values summary\n",
        "missing_summary = df_brands.isnull().sum().sort_values(ascending=False)\n",
        "print(missing_summary)\n",
        "\n",
        "# percentage of missing values\n",
        "missing_percentage = (df_brands.isnull().mean() * 100).sort_values(ascending=False)\n",
        "print(missing_percentage)\n",
        "\n",
        "\"\"\"\n",
        "1. Highly Missing Columns:\n",
        "categoryCode and topBrand have over 50% missing values,\n",
        "brandCode has 20% missing values\n",
        "category has 13.3% missing values\n",
        "-> imputation or drop data might be needed depeding on the business needs\n",
        "\"\"\""
      ],
      "metadata": {
        "colab": {
          "base_uri": "https://localhost:8080/"
        },
        "id": "fKk3XqgsgxcG",
        "outputId": "f1f1b825-3d2e-4ebc-9f09-59c828319f35"
      },
      "execution_count": null,
      "outputs": [
        {
          "output_type": "stream",
          "name": "stdout",
          "text": [
            "categoryCode    650\n",
            "topBrand        612\n",
            "brandCode       234\n",
            "category        155\n",
            "_id               0\n",
            "barcode           0\n",
            "cpg               0\n",
            "name              0\n",
            "dtype: int64\n",
            "categoryCode    55.698372\n",
            "topBrand        52.442159\n",
            "brandCode       20.051414\n",
            "category        13.281919\n",
            "_id              0.000000\n",
            "barcode          0.000000\n",
            "cpg              0.000000\n",
            "name             0.000000\n",
            "dtype: float64\n"
          ]
        }
      ]
    },
    {
      "cell_type": "markdown",
      "source": [
        "---\n",
        "# df_receipts data quality diagnosis\n"
      ],
      "metadata": {
        "id": "pGRbpLpupAD1"
      }
    },
    {
      "cell_type": "code",
      "source": [
        "print(df_receipts.info())\n",
        "print(\"------------------------------------------\")\n",
        "print(df_receipts.describe(include=\"all\"))  # summary statistics for numerical and categorical data\n",
        "print(\"------------------------------------------\")\n",
        "print(df_receipts.head())   # first few rows"
      ],
      "metadata": {
        "colab": {
          "base_uri": "https://localhost:8080/"
        },
        "id": "L_ZRQnZ3k5bY",
        "outputId": "51b8dfe6-5014-4554-cc42-f4579583bf29"
      },
      "execution_count": null,
      "outputs": [
        {
          "output_type": "stream",
          "name": "stdout",
          "text": [
            "<class 'pandas.core.frame.DataFrame'>\n",
            "RangeIndex: 1119 entries, 0 to 1118\n",
            "Data columns (total 15 columns):\n",
            " #   Column                   Non-Null Count  Dtype  \n",
            "---  ------                   --------------  -----  \n",
            " 0   _id                      1119 non-null   object \n",
            " 1   bonusPointsEarned        544 non-null    float64\n",
            " 2   bonusPointsEarnedReason  544 non-null    object \n",
            " 3   createDate               1119 non-null   object \n",
            " 4   dateScanned              1119 non-null   object \n",
            " 5   finishedDate             568 non-null    object \n",
            " 6   modifyDate               1119 non-null   object \n",
            " 7   pointsAwardedDate        537 non-null    object \n",
            " 8   pointsEarned             609 non-null    float64\n",
            " 9   purchaseDate             671 non-null    object \n",
            " 10  purchasedItemCount       635 non-null    float64\n",
            " 11  rewardsReceiptItemList   679 non-null    object \n",
            " 12  rewardsReceiptStatus     1119 non-null   object \n",
            " 13  totalSpent               684 non-null    float64\n",
            " 14  userId                   1119 non-null   object \n",
            "dtypes: float64(4), object(11)\n",
            "memory usage: 131.3+ KB\n",
            "None\n",
            "------------------------------------------\n",
            "                                         _id  bonusPointsEarned  \\\n",
            "count                                   1119         544.000000   \n",
            "unique                                  1119                NaN   \n",
            "top     {'$oid': '5ff1e1eb0a720f0523000575'}                NaN   \n",
            "freq                                       1                NaN   \n",
            "mean                                     NaN         238.893382   \n",
            "std                                      NaN         299.091731   \n",
            "min                                      NaN           5.000000   \n",
            "25%                                      NaN           5.000000   \n",
            "50%                                      NaN          45.000000   \n",
            "75%                                      NaN         500.000000   \n",
            "max                                      NaN         750.000000   \n",
            "\n",
            "           bonusPointsEarnedReason                createDate  \\\n",
            "count                          544                      1119   \n",
            "unique                           9                      1107   \n",
            "top     All-receipts receipt bonus  {'$date': 1609687531000}   \n",
            "freq                           183                         3   \n",
            "mean                           NaN                       NaN   \n",
            "std                            NaN                       NaN   \n",
            "min                            NaN                       NaN   \n",
            "25%                            NaN                       NaN   \n",
            "50%                            NaN                       NaN   \n",
            "75%                            NaN                       NaN   \n",
            "max                            NaN                       NaN   \n",
            "\n",
            "                     dateScanned              finishedDate  \\\n",
            "count                       1119                       568   \n",
            "unique                      1107                       553   \n",
            "top     {'$date': 1609687531000}  {'$date': 1609687534000}   \n",
            "freq                           3                         3   \n",
            "mean                         NaN                       NaN   \n",
            "std                          NaN                       NaN   \n",
            "min                          NaN                       NaN   \n",
            "25%                          NaN                       NaN   \n",
            "50%                          NaN                       NaN   \n",
            "75%                          NaN                       NaN   \n",
            "max                          NaN                       NaN   \n",
            "\n",
            "                      modifyDate         pointsAwardedDate  pointsEarned  \\\n",
            "count                       1119                       537    609.000000   \n",
            "unique                      1104                       523           NaN   \n",
            "top     {'$date': 1609687536000}  {'$date': 1609687534000}           NaN   \n",
            "freq                           3                         3           NaN   \n",
            "mean                         NaN                       NaN    585.962890   \n",
            "std                          NaN                       NaN   1357.166947   \n",
            "min                          NaN                       NaN      0.000000   \n",
            "25%                          NaN                       NaN      5.000000   \n",
            "50%                          NaN                       NaN    150.000000   \n",
            "75%                          NaN                       NaN    750.000000   \n",
            "max                          NaN                       NaN  10199.800000   \n",
            "\n",
            "                    purchaseDate  purchasedItemCount  \\\n",
            "count                        671           635.00000   \n",
            "unique                       358                 NaN   \n",
            "top     {'$date': 1597622400000}                 NaN   \n",
            "freq                          40                 NaN   \n",
            "mean                         NaN            14.75748   \n",
            "std                          NaN            61.13424   \n",
            "min                          NaN             0.00000   \n",
            "25%                          NaN             1.00000   \n",
            "50%                          NaN             2.00000   \n",
            "75%                          NaN             5.00000   \n",
            "max                          NaN           689.00000   \n",
            "\n",
            "                                   rewardsReceiptItemList  \\\n",
            "count                                                 679   \n",
            "unique                                                383   \n",
            "top     [{'description': 'flipbelt level terrain waist...   \n",
            "freq                                                   50   \n",
            "mean                                                  NaN   \n",
            "std                                                   NaN   \n",
            "min                                                   NaN   \n",
            "25%                                                   NaN   \n",
            "50%                                                   NaN   \n",
            "75%                                                   NaN   \n",
            "max                                                   NaN   \n",
            "\n",
            "       rewardsReceiptStatus   totalSpent                    userId  \n",
            "count                  1119   684.000000                      1119  \n",
            "unique                    5          NaN                       258  \n",
            "top                FINISHED          NaN  5fc961c3b8cfca11a077dd33  \n",
            "freq                    518          NaN                       436  \n",
            "mean                    NaN    77.796857                       NaN  \n",
            "std                     NaN   347.110349                       NaN  \n",
            "min                     NaN     0.000000                       NaN  \n",
            "25%                     NaN     1.000000                       NaN  \n",
            "50%                     NaN    18.200000                       NaN  \n",
            "75%                     NaN    34.960000                       NaN  \n",
            "max                     NaN  4721.950000                       NaN  \n",
            "------------------------------------------\n",
            "                                    _id  bonusPointsEarned  \\\n",
            "0  {'$oid': '5ff1e1eb0a720f0523000575'}              500.0   \n",
            "1  {'$oid': '5ff1e1bb0a720f052300056b'}              150.0   \n",
            "2  {'$oid': '5ff1e1f10a720f052300057a'}                5.0   \n",
            "3  {'$oid': '5ff1e1ee0a7214ada100056f'}                5.0   \n",
            "4  {'$oid': '5ff1e1d20a7214ada1000561'}                5.0   \n",
            "\n",
            "                             bonusPointsEarnedReason  \\\n",
            "0  Receipt number 2 completed, bonus point schedu...   \n",
            "1  Receipt number 5 completed, bonus point schedu...   \n",
            "2                         All-receipts receipt bonus   \n",
            "3                         All-receipts receipt bonus   \n",
            "4                         All-receipts receipt bonus   \n",
            "\n",
            "                 createDate               dateScanned  \\\n",
            "0  {'$date': 1609687531000}  {'$date': 1609687531000}   \n",
            "1  {'$date': 1609687483000}  {'$date': 1609687483000}   \n",
            "2  {'$date': 1609687537000}  {'$date': 1609687537000}   \n",
            "3  {'$date': 1609687534000}  {'$date': 1609687534000}   \n",
            "4  {'$date': 1609687506000}  {'$date': 1609687506000}   \n",
            "\n",
            "               finishedDate                modifyDate  \\\n",
            "0  {'$date': 1609687531000}  {'$date': 1609687536000}   \n",
            "1  {'$date': 1609687483000}  {'$date': 1609687488000}   \n",
            "2                       NaN  {'$date': 1609687542000}   \n",
            "3  {'$date': 1609687534000}  {'$date': 1609687539000}   \n",
            "4  {'$date': 1609687511000}  {'$date': 1609687511000}   \n",
            "\n",
            "          pointsAwardedDate  pointsEarned              purchaseDate  \\\n",
            "0  {'$date': 1609687531000}         500.0  {'$date': 1609632000000}   \n",
            "1  {'$date': 1609687483000}         150.0  {'$date': 1609601083000}   \n",
            "2                       NaN           5.0  {'$date': 1609632000000}   \n",
            "3  {'$date': 1609687534000}           5.0  {'$date': 1609632000000}   \n",
            "4  {'$date': 1609687506000}           5.0  {'$date': 1609601106000}   \n",
            "\n",
            "   purchasedItemCount                             rewardsReceiptItemList  \\\n",
            "0                 5.0  [{'barcode': '4011', 'description': 'ITEM NOT ...   \n",
            "1                 2.0  [{'barcode': '4011', 'description': 'ITEM NOT ...   \n",
            "2                 1.0  [{'needsFetchReview': False, 'partnerItemId': ...   \n",
            "3                 4.0  [{'barcode': '4011', 'description': 'ITEM NOT ...   \n",
            "4                 2.0  [{'barcode': '4011', 'description': 'ITEM NOT ...   \n",
            "\n",
            "  rewardsReceiptStatus  totalSpent                    userId  \n",
            "0             FINISHED        26.0  5ff1e1eacfcf6c399c274ae6  \n",
            "1             FINISHED        11.0  5ff1e194b6a9d73a3a9f1052  \n",
            "2             REJECTED        10.0  5ff1e1f1cfcf6c399c274b0b  \n",
            "3             FINISHED        28.0  5ff1e1eacfcf6c399c274ae6  \n",
            "4             FINISHED         1.0  5ff1e194b6a9d73a3a9f1052  \n"
          ]
        }
      ]
    },
    {
      "cell_type": "markdown",
      "source": [
        "Data Quality Issues\n",
        "Missing Values\n",
        "\n",
        "Several columns have significant proportions of missing values:\n",
        "bonusPointsEarned and bonusPointsEarnedReason: Only 544 non-null entries (49%).\n",
        "finishedDate: 568 non-null (51%).\n",
        "pointsAwardedDate: 537 non-null (48%).\n",
        "pointsEarned: 609 non-null (54%).\n",
        "purchaseDate: 671 non-null (60%).\n",
        "purchasedItemCount: 635 non-null (57%).\n",
        "totalSpent: 684 non-null (61%).\n",
        "rewardsReceiptItemList\n",
        "Inconsistent Date Formatting\n",
        "\n",
        "Dates are stored as strings in JSON-like objects (e.g., {'$date': 1609687531000}), requiring transformation to proper date-time formats.\n",
        "Fields affected: createDate, dateScanned, finishedDate, modifyDate, pointsAwardedDate, and purchaseDate.\n",
        "Data Type Mismatches\n",
        "\n",
        "Some columns have incorrect data types:\n",
        "rewardsReceiptItemList is an object (likely a nested JSON structure), requiring further parsing.\n",
        "purchasedItemCount and totalSpent are float values but contain potential outliers (e.g., purchasedItemCount max = 689, totalSpent max = 4721.95).\n",
        "Duplicate and Low-Value Records\n",
        "\n",
        "Potential duplicates in date fields:\n",
        "Example: createDate and dateScanned have the same top value ({'$date': 1609687531000}) appearing 3 times each.\n",
        "bonusPointsEarnedReason and rewardsReceiptItemList contain repetitive or generic entries, reducing informational value.\n",
        "Inconsistent Cardinality\n",
        "\n",
        "High cardinality in userId (258 unique values over 1,119 entries) may indicate repeated actions by the same users.\n",
        "Low cardinality in rewardsReceiptStatus (only 5 unique values, with \"FINISHED\" appearing 518 times) suggests imbalanced categorical data.\n",
        "Potential Outliers\n",
        "\n",
        "Columns pointsEarned and totalSpent have extreme values:\n",
        "pointsEarned max = 10,199.80 (mean = 585.96, std = 1357.16).\n",
        "totalSpent max = 4,721.95 (mean = 77.80, std = 347.11).\n",
        "Requires further investigation for validity.\n"
      ],
      "metadata": {
        "id": "nrEaY-uVudRr"
      }
    }
  ]
}